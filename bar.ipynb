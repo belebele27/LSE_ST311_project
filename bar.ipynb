{
 "cells": [
  {
   "cell_type": "code",
   "execution_count": 1,
   "metadata": {},
   "outputs": [],
   "source": [
    "import torch\n",
    "from transformers import BlipProcessor, BlipForQuestionAnswering\n",
    "from PIL import Image\n",
    "import requests\n",
    "import torch\n",
    "\n",
    "import torch.nn as nn\n",
    "import torch.optim as optim"
   ]
  },
  {
   "cell_type": "code",
   "execution_count": 2,
   "metadata": {},
   "outputs": [
    {
     "name": "stderr",
     "output_type": "stream",
     "text": [
      "Found cached dataset parquet (/Users/mngtn/.cache/huggingface/datasets/lmms-lab___parquet/lmms-lab--OK-VQA-134cd3ac306f3257/0.0.0/2a3b91fbd88a2c90d1dbbb32b460cf621d31bd5b05b934492fdef7d8d6f236ec)\n"
     ]
    },
    {
     "data": {
      "application/vnd.jupyter.widget-view+json": {
       "model_id": "655bb89cfcee4630b1ddc2132753d13b",
       "version_major": 2,
       "version_minor": 0
      },
      "text/plain": [
       "  0%|          | 0/1 [00:00<?, ?it/s]"
      ]
     },
     "metadata": {},
     "output_type": "display_data"
    },
    {
     "name": "stderr",
     "output_type": "stream",
     "text": [
      "Loading cached split indices for dataset at /Users/mngtn/.cache/huggingface/datasets/lmms-lab___parquet/lmms-lab--OK-VQA-134cd3ac306f3257/0.0.0/2a3b91fbd88a2c90d1dbbb32b460cf621d31bd5b05b934492fdef7d8d6f236ec/cache-5dc0d48e031110cc.arrow and /Users/mngtn/.cache/huggingface/datasets/lmms-lab___parquet/lmms-lab--OK-VQA-134cd3ac306f3257/0.0.0/2a3b91fbd88a2c90d1dbbb32b460cf621d31bd5b05b934492fdef7d8d6f236ec/cache-3ffe7268338e8169.arrow\n",
      "Loading cached split indices for dataset at /Users/mngtn/.cache/huggingface/datasets/lmms-lab___parquet/lmms-lab--OK-VQA-134cd3ac306f3257/0.0.0/2a3b91fbd88a2c90d1dbbb32b460cf621d31bd5b05b934492fdef7d8d6f236ec/cache-701a2d3e4aa1093b.arrow and /Users/mngtn/.cache/huggingface/datasets/lmms-lab___parquet/lmms-lab--OK-VQA-134cd3ac306f3257/0.0.0/2a3b91fbd88a2c90d1dbbb32b460cf621d31bd5b05b934492fdef7d8d6f236ec/cache-46d3932ecec0d6f3.arrow\n"
     ]
    },
    {
     "name": "stdout",
     "output_type": "stream",
     "text": [
      "Train size: 3532\n",
      "Validation size: 757\n",
      "Test size: 757\n"
     ]
    }
   ],
   "source": [
    "from datasets import load_dataset\n",
    "\n",
    "# Load OK-VQA dataset\n",
    "ds_dict = load_dataset(\"lmms-lab/OK-VQA\")\n",
    "full_ds = ds_dict[\"val2014\"]  # total 5046 rows\n",
    "\n",
    "# First split: 70% train, 30% temp (val + test)\n",
    "split_1 = full_ds.train_test_split(test_size=0.30, seed=42)\n",
    "train_ds = split_1[\"train\"]\n",
    "temp_ds = split_1[\"test\"]\n",
    "\n",
    "# Second split: 15% val, 15% test from the 30% temp\n",
    "split_2 = temp_ds.train_test_split(test_size=0.5, seed=42)\n",
    "val_ds = split_2[\"train\"]\n",
    "test_ds = split_2[\"test\"]\n",
    "\n",
    "# Confirm sizes\n",
    "print(f\"Train size: {len(train_ds)}\")\n",
    "print(f\"Validation size: {len(val_ds)}\")\n",
    "print(f\"Test size: {len(test_ds)}\")\n"
   ]
  },
  {
   "cell_type": "code",
   "execution_count": 3,
   "metadata": {},
   "outputs": [
    {
     "data": {
      "text/plain": [
       "{'question_id': '3625635',\n",
       " 'image': <PIL.JpegImagePlugin.JpegImageFile image mode=RGB size=640x427>,\n",
       " 'question': 'What position is this person playing?',\n",
       " 'answers': ['shortstop',\n",
       "  'shortstop',\n",
       "  'shortstop',\n",
       "  'shortstop',\n",
       "  'outfielder',\n",
       "  'outfielder',\n",
       "  'catcher',\n",
       "  'catcher',\n",
       "  'first base',\n",
       "  'first base'],\n",
       " 'question_type': 'Sports and Recreation',\n",
       " 'answer_type': 'other'}"
      ]
     },
     "execution_count": 3,
     "metadata": {},
     "output_type": "execute_result"
    }
   ],
   "source": [
    "train_ds[0]"
   ]
  },
  {
   "cell_type": "code",
   "execution_count": 4,
   "metadata": {},
   "outputs": [],
   "source": [
    "\n",
    "processor = BlipProcessor.from_pretrained(\"Salesforce/blip-vqa-base\")\n",
    "model = BlipForQuestionAnswering.from_pretrained(\"Salesforce/blip-vqa-base\")\n",
    "inputs = processor(images=train_ds[0]['image'], text=train_ds[0]['question'], return_tensors=\"pt\")\n",
    "        \n",
    "img_embedding = model.vision_model(inputs[\"pixel_values\"]).last_hidden_state\n",
    "text_embedding = model.text_encoder(input_ids=inputs[\"input_ids\"], attention_mask=inputs[\"attention_mask\"]).last_hidden_state\n",
    "\n",
    "hidden_size = 512\n",
    "\n"
   ]
  },
  {
   "cell_type": "code",
   "execution_count": 5,
   "metadata": {},
   "outputs": [
    {
     "name": "stdout",
     "output_type": "stream",
     "text": [
      "torch.Size([1, 577, 768])\n",
      "torch.Size([1, 9, 768])\n"
     ]
    }
   ],
   "source": [
    "print(img_embedding.shape)\n",
    "print(text_embedding.shape)"
   ]
  },
  {
   "cell_type": "code",
   "execution_count": 6,
   "metadata": {},
   "outputs": [],
   "source": [
    "processor = BlipProcessor.from_pretrained(\"Salesforce/blip-vqa-base\")\n",
    "model = BlipForQuestionAnswering.from_pretrained(\"Salesforce/blip-vqa-base\")"
   ]
  },
  {
   "cell_type": "code",
   "execution_count": 7,
   "metadata": {},
   "outputs": [],
   "source": [
    "for param in model.vision_model.parameters():\n",
    "    param.requires_grad = False\n",
    "\n",
    "for param in model.text_encoder.parameters():\n",
    "    param.requires_grad = False\n"
   ]
  },
  {
   "cell_type": "code",
   "execution_count": null,
   "metadata": {},
   "outputs": [],
   "source": [
    "class BLIPFinetuer(nn.Module):\n",
    "\n",
    "    def __init__(self, model, processor, hidden_size):\n",
    "        self.model = model\n",
    "        self.hidden_size = hidden_size\n",
    "        self.processor = processor\n",
    "        self.hidden_size_img = 768\n",
    "        self.hidden_size_text = 768\n",
    "\n",
    "        self.linear_img = nn.Sequential(\n",
    "            nn.Linear(self.hidden_size_img, self.hidden_size),\n",
    "            nn.ReLU(),\n",
    "            nn.Linear(self.hidden_size, self.hidden_size_img)\n",
    "        )\n",
    "\n",
    "        self.linear_text = nn.Sequential(\n",
    "            nn.Linear(self.hidden_size_text, self.hidden_size),\n",
    "            nn.ReLU(),\n",
    "            nn.Linear(self.hidden_size, self.hidden_size_text)\n",
    "        )\n",
    "\n",
    "        self.combine = nn.MultiheadAttention(self.hidden_size, 16)\n",
    "\n",
    "    def forward(self, text, img):\n",
    "        inputs = self.processor(images=img, text=text, return_tensors=\"pt\")\n",
    "        \n",
    "        img_embedding = model.vision_model(inputs[\"pixel_values\"]).last_hidden_state\n",
    "        text_embedding = model.text_encoder(input_ids=inputs[\"input_ids\"], attention_mask=inputs[\"attention_mask\"]).last_hidden_state\n",
    "\n",
    "        img_feature = self.linear_img(img_embedding)\n",
    "        text_feature = self.linear_text(text_embedding)\n",
    "\n",
    "        # here we need to figure out a way to combine the img_feature and the text_feature\n",
    "        # before feeding them into the text decoder. \n",
    "        # my suggested way would be to have a multi-head cross attention layer and have the 2 features\n",
    "        # concatenated as input. so the process would be:\n",
    "        # concat(img_feature, text_feature) -> multi-head attention -> text_decoder.\n",
    "        # now the attention layer clearly does not work and needs fixing.\n",
    "\n",
    "        combined_feature, _ = self.combine(torch.concat([text_feature, img_feature], 1))\n",
    "        output = self.model.text_decoder(encoder_hidden_states=combined_feature)\n",
    "        return output\n",
    "    \n",
    "    def generate(self, text, img, max_length, input_ids):\n",
    "        self.eval()\n",
    "        with torch.no_grad():\n",
    "            inputs = self.processor(images=img, text=text, return_tensors=\"pt\")\n",
    "        \n",
    "            img_embedding = model.vision_model(inputs[\"pixel_values\"]).last_hidden_state\n",
    "            text_embedding = model.text_encoder(input_ids=inputs[\"input_ids\"], attention_mask=inputs[\"attention_mask\"]).last_hidden_state\n",
    "\n",
    "            img_feature = self.linear_img(img_embedding)\n",
    "            text_feature = self.linear_text(text_embedding)\n",
    "\n",
    "            combined_feature, _ = self.combine(torch.concat([text_feature, img_feature], 1))\n",
    "\n",
    "            output_seq = input_ids.clone()\n",
    "\n",
    "            for i in range(max_length):\n",
    "                mask = torch.ones_like(output_seq)\n",
    "                outputs = self.model.text_decoder(\n",
    "                    input_ids=output_seq,\n",
    "                    attention_mask=mask,\n",
    "                    encoder_hidden_states=combined_feature,\n",
    "                    return_dict=True\n",
    "                )\n",
    "                logits = outputs.logits  \n",
    "                next_token = logits[:, -1, :].argmax(dim=-1, keepdim=True)\n",
    "                output_seq = torch.cat([output_seq, next_token], dim=-1)\n",
    "                if next_token.item() == self.processor.tokenizer.eos_token_id:\n",
    "                    break\n",
    "            return output_seq\n",
    "\n",
    "\n",
    "\n",
    "\n",
    "\n",
    "\n",
    "\n",
    "\n",
    "\n",
    "\n",
    "\n",
    "        \n",
    "\n",
    "\n",
    "\n"
   ]
  },
  {
   "cell_type": "code",
   "execution_count": null,
   "metadata": {},
   "outputs": [],
   "source": [
    "\n",
    "image_embedding_dim = model.vision_model.config.hidden_size\n",
    "text_embedding_dim = model.text_encoder.config.hidden_size\n",
    "\n",
    "# Define the dense layers\n",
    "image_dense = nn.Linear(image_embedding_dim, 512)  # Example output size of 512\n",
    "text_dense = nn.Linear(text_embedding_dim, 512)    # Example output size of 512\n",
    "\n",
    "# Initialize the optimizer, only training the parameters of the dense layers\n",
    "optimizer = optim.Adam(list(image_dense.parameters()) + list(text_dense.parameters()), lr=1e-4)\n",
    "\n",
    "# Example input and forward pass (simplified for demonstration)\n",
    "image_url = \"https://i.imgur.com/N601nO1.jpg\"\n",
    "image = Image.open(requests.get(image_url, stream=True).raw).convert(\"RGB\")\n",
    "text = \"What is the person doing?\"\n",
    "inputs = processor(images=image, text=text, return_tensors=\"pt\")\n",
    "\n",
    "# Forward pass through the image encoder and the dense layer\n",
    "image_encoder_output = model.vision_model(inputs[\"pixel_values\"])\n",
    "image_embeddings = image_encoder_output.last_hidden_state\n",
    "processed_image_embeddings = image_dense(image_embeddings)\n",
    "\n",
    "# Forward pass through the text encoder and the dense layer\n",
    "text_encoder_output = model.text_encoder(input_ids=inputs[\"input_ids\"], attention_mask=inputs[\"attention_mask\"])\n",
    "text_embeddings = text_encoder_output.last_hidden_state\n",
    "processed_text_embeddings = text_dense(text_embeddings)\n",
    "\n",
    "# Assuming you have a decoder part of your custom model that takes these processed embeddings\n",
    "# For BLIP VQA, the 'model' itself acts as the combined encoder and decoder\n",
    "# We'll perform a simplified forward pass to illustrate the concept\n",
    "\n",
    "# Concatenate or otherwise fuse the processed embeddings if needed for the decoder\n",
    "# This part depends heavily on your custom decoder architecture\n",
    "fused_embeddings = torch.cat((processed_image_embeddings[:, 0, :], processed_text_embeddings[:, 0, :]), dim=-1) # Example fusion\n",
    "\n",
    "# Since we froze the original model's parameters, any direct call to 'model' for VQA\n",
    "# will use the frozen weights. If you have a separate decoder, you'd feed 'fused_embeddings' into it.\n",
    "\n",
    "# For demonstration with the original BLIP model (with frozen weights),\n",
    "# we can try a forward pass for VQA using the original processor's format:\n",
    "vqa_outputs = model(**inputs) # This will use the frozen encoders and the VQA head\n",
    "print(\"VQA Outputs (using frozen model):\", vqa_outputs.logits.shape)\n",
    "\n",
    "# In a training loop:\n",
    "# 1. Zero the gradients\n",
    "optimizer.zero_grad()\n",
    "# 2. Perform the forward pass (as shown above, potentially through your custom decoder)\n",
    "# 3. Calculate the loss based on the decoder's output and your target\n",
    "# 4. Backpropagate the gradients only through the trainable parameters (dense layers)\n",
    "#    loss.backward()\n",
    "# 5. Update the parameters\n",
    "#    optimizer.step()\n",
    "\n",
    "# Check which parameters are being trained\n",
    "trainable_params = 0\n",
    "for name, param in model.named_parameters():\n",
    "    if param.requires_grad:\n",
    "        trainable_params += param.numel()\n",
    "        print(f\"Trainable parameter: {name}\")\n",
    "\n",
    "for name, param in image_dense.named_parameters():\n",
    "    if param.requires_grad:\n",
    "        trainable_params += param.numel()\n",
    "        print(f\"Trainable parameter (image dense): {name}\")\n",
    "\n",
    "for name, param in text_dense.named_parameters():\n",
    "    if param.requires_grad:\n",
    "        trainable_params += param.numel()\n",
    "        print(f\"Trainable parameter (text dense): {name}\")\n",
    "\n",
    "print(f\"Total trainable parameters: {trainable_params}\")"
   ]
  }
 ],
 "metadata": {
  "kernelspec": {
   "display_name": "base",
   "language": "python",
   "name": "python3"
  },
  "language_info": {
   "codemirror_mode": {
    "name": "ipython",
    "version": 3
   },
   "file_extension": ".py",
   "mimetype": "text/x-python",
   "name": "python",
   "nbconvert_exporter": "python",
   "pygments_lexer": "ipython3",
   "version": "3.11.4"
  }
 },
 "nbformat": 4,
 "nbformat_minor": 2
}
